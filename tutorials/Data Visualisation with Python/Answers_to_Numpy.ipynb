{
 "cells": [
  {
   "cell_type": "code",
   "execution_count": 1,
   "metadata": {},
   "outputs": [
    {
     "name": "stdout",
     "output_type": "stream",
     "text": [
      "Requirement already satisfied: numpy in /opt/anaconda3/lib/python3.12/site-packages (1.26.4)\n"
     ]
    }
   ],
   "source": [
    "!pip install numpy"
   ]
  },
  {
   "cell_type": "code",
   "execution_count": 5,
   "metadata": {},
   "outputs": [
    {
     "name": "stdout",
     "output_type": "stream",
     "text": [
      "[[12  3 14  1  5]\n",
      " [15  5 11 12 12]\n",
      " [16  3 18 15 19]\n",
      " [18  7 14  2 16]\n",
      " [ 8 13 17 11 14]]\n",
      "[[12  3  1  1  5]\n",
      " [15  5  1 12 12]\n",
      " [16  3  1 15 19]\n",
      " [18  7  1  2 16]\n",
      " [ 8 13  1 11 14]]\n"
     ]
    }
   ],
   "source": [
    "import numpy as np\n",
    "arr = np.random.randint(1, 20, size=(5,5))\n",
    "print(arr)\n",
    "\n",
    "arr[:, 2] = 1\n",
    "print(arr)"
   ]
  },
  {
   "cell_type": "code",
   "execution_count": 11,
   "metadata": {},
   "outputs": [
    {
     "name": "stdout",
     "output_type": "stream",
     "text": [
      "[[ 0  2  3  4]\n",
      " [ 5  0  7  8]\n",
      " [ 9 10  0 12]\n",
      " [13 14 15  0]]\n"
     ]
    }
   ],
   "source": [
    "arr2 = np.arange(1, 17).reshape((4,4))\n",
    "\n",
    "np.fill_diagonal(arr2, 0)\n",
    "print(arr2)"
   ]
  },
  {
   "cell_type": "code",
   "execution_count": 13,
   "metadata": {},
   "outputs": [
    {
     "name": "stdout",
     "output_type": "stream",
     "text": [
      "[[14 15 16]\n",
      " [20 21 22]\n",
      " [26 27 28]]\n"
     ]
    }
   ],
   "source": [
    "arr3 = np.arange(1, 37).reshape((6,6))\n",
    "print(arr3[2:5, 1:4])"
   ]
  },
  {
   "cell_type": "code",
   "execution_count": 32,
   "metadata": {},
   "outputs": [
    {
     "name": "stdout",
     "output_type": "stream",
     "text": [
      "[[15 10 18  4  6]\n",
      " [16 11  7 10  4]\n",
      " [11 20 12 11  4]\n",
      " [ 3 12 19 13  4]\n",
      " [20  9 11  9 13]]\n",
      "15\t\t10\t\t18\t\t4\t\t6\t\t\n",
      "16\t\t\t\t\t\t\t\t4\t\t\n",
      "11\t\t\t\t\t\t\t\t4\t\t\n",
      "3\t\t\t\t\t\t\t\t4\t\t\n",
      "20\t\t9\t\t11\t\t9\t\t13\t\t\n"
     ]
    }
   ],
   "source": [
    "arr4 = np.random.randint(1,21, size=(5,5))\n",
    "print(arr4)\n",
    "for i in range(5):\n",
    "    for j in range(5):\n",
    "        if i == 0 or j == 0 or i == 4 or j == 4:\n",
    "            print(arr4[i][j],end=\"\\t\\t\")\n",
    "        else:\n",
    "            print(\"\\t\",end=\"\\t\" )\n",
    "    print()"
   ]
  },
  {
   "cell_type": "code",
   "execution_count": 35,
   "metadata": {},
   "outputs": [
    {
     "name": "stdout",
     "output_type": "stream",
     "text": [
      "[[ 6  3  3 -1]\n",
      " [-1 -2 -2 -1]\n",
      " [10 -6  9 -2]]\n",
      "[[14  7 21  9]\n",
      " [ 9  6 20 15]\n",
      " [12 16 15  8]]\n",
      "[[ 40  10 108  20]\n",
      " [ 20   8  99  56]\n",
      " [ 11  55  36  15]]\n",
      "[[ 2.5         2.5         1.33333333  0.8       ]\n",
      " [ 0.8         0.5         0.81818182  0.875     ]\n",
      " [11.          0.45454545  4.          0.6       ]]\n"
     ]
    }
   ],
   "source": [
    "arr5 = np.random.randint(1, 13, size=(3,4))\n",
    "arr6 = np.random.randint(1, 13, size=(3,4))\n",
    "print(arr5 - arr6)\n",
    "print(arr5 + arr6)\n",
    "print(arr5 * arr6)\n",
    "print(arr5 / arr6)\n",
    "\n"
   ]
  },
  {
   "cell_type": "code",
   "execution_count": 37,
   "metadata": {},
   "outputs": [
    {
     "name": "stdout",
     "output_type": "stream",
     "text": [
      "[[ 3 16 16 12]\n",
      " [13  3  7  8]\n",
      " [ 9  4  4 14]\n",
      " [16 16  1  1]]\n",
      "[41 39 28 35]\n",
      "[47 31 31 34]\n"
     ]
    }
   ],
   "source": [
    "arr7 = np.random.randint(1,17, size=(4,4))\n",
    "print(arr7)\n",
    "print(arr7.sum(axis=0))\n",
    "print(arr7.sum(axis=1))"
   ]
  },
  {
   "cell_type": "code",
   "execution_count": 38,
   "metadata": {},
   "outputs": [
    {
     "name": "stdout",
     "output_type": "stream",
     "text": [
      "Mean 11.76\n",
      "Median 10.0\n",
      "Standard Deviation 6.592601914267234\n",
      "Variance 43.462399999999995\n"
     ]
    }
   ],
   "source": [
    "arr8 = np.random.randint(1, 26, size=(5,5))\n",
    "print(f\"Mean {arr8.mean()}\")\n",
    "print(f\"Median {np.median(arr8)}\")\n",
    "print(f\"Standard Deviation {np.std(arr8)}\")\n",
    "print(f\"Variance {np.var(arr8)}\")"
   ]
  },
  {
   "cell_type": "code",
   "execution_count": 39,
   "metadata": {},
   "outputs": [
    {
     "name": "stdout",
     "output_type": "stream",
     "text": [
      "[[-1.54919334 -1.161895   -0.77459667]\n",
      " [-0.38729833  0.          0.38729833]\n",
      " [ 0.77459667  1.161895    1.54919334]]\n"
     ]
    }
   ],
   "source": [
    "arr9 = np.arange(1, 10).reshape((3,3))\n",
    "mean = np.mean(arr9)\n",
    "std = np.std(arr9)\n",
    "normalized_array = (arr9-mean)/std\n",
    "print(normalized_array)"
   ]
  },
  {
   "cell_type": "code",
   "execution_count": 40,
   "metadata": {},
   "outputs": [
    {
     "name": "stdout",
     "output_type": "stream",
     "text": [
      "[[11  6  6]\n",
      " [ 6  5  7]\n",
      " [ 8  3 10]]\n"
     ]
    }
   ],
   "source": [
    "arr10 = np.random.randint(1,10, size=(3,3))\n",
    "row1 = np.random.randint(1,4, size=(3,))\n",
    "print(arr10+row1)"
   ]
  },
  {
   "cell_type": "code",
   "execution_count": 50,
   "metadata": {},
   "outputs": [
    {
     "name": "stdout",
     "output_type": "stream",
     "text": [
      "[[90 16  7 10]\n",
      " [30 87 44 74]\n",
      " [14 18 62 40]\n",
      " [99 24 12 72]]\n",
      "[3 7 9 7]\n",
      "[[3]\n",
      " [7]\n",
      " [9]\n",
      " [7]]\n",
      "[[87 13  4  7]\n",
      " [23 80 37 67]\n",
      " [ 5  9 53 31]\n",
      " [92 17  5 65]]\n"
     ]
    }
   ],
   "source": [
    "arr11 = np.random.randint(1,100, size=(4,4))\n",
    "col1 = np.random.randint(1,10, size=(4,))\n",
    "\n",
    "print(arr11)\n",
    "print(col1)\n",
    "print(col1[:, np.newaxis])\n",
    "print(arr11-col1[:, np.newaxis])"
   ]
  },
  {
   "cell_type": "code",
   "execution_count": 51,
   "metadata": {},
   "outputs": [
    {
     "name": "stdout",
     "output_type": "stream",
     "text": [
      "-30522.000000000015\n",
      "[132.83924131 -24.29614914   9.45690784]\n",
      "[[-0.00589739 -0.05297818  0.04629448]\n",
      " [-0.00897713  0.08046655 -0.04619619]\n",
      " [ 0.03852959 -0.02054256 -0.00245724]]\n"
     ]
    }
   ],
   "source": [
    "arr12 = np.random.randint(1,100, size=(3,3))\n",
    "print(np.linalg.det(arr12))\n",
    "print(np.linalg.eigvals(arr12))\n",
    "print(np.linalg.inv(arr12))"
   ]
  },
  {
   "cell_type": "code",
   "execution_count": 53,
   "metadata": {},
   "outputs": [
    {
     "name": "stdout",
     "output_type": "stream",
     "text": [
      "[[ 5161  6691]\n",
      " [ 7168 10522]]\n"
     ]
    }
   ],
   "source": [
    "arr13 = np.random.randint(1,100, size=(2,3))\n",
    "arr14 = np.random.randint(1,100, size=(3,2))\n",
    "\n",
    "print(np.dot(arr13, arr14))"
   ]
  },
  {
   "cell_type": "code",
   "execution_count": 60,
   "metadata": {},
   "outputs": [
    {
     "name": "stdout",
     "output_type": "stream",
     "text": [
      "[[1 2 3]\n",
      " [4 5 6]\n",
      " [7 8 9]]\n"
     ]
    },
    {
     "data": {
      "text/plain": [
       "array([[1],\n",
       "       [2],\n",
       "       [3],\n",
       "       [4],\n",
       "       [5],\n",
       "       [6],\n",
       "       [7],\n",
       "       [8],\n",
       "       [9]])"
      ]
     },
     "execution_count": 60,
     "metadata": {},
     "output_type": "execute_result"
    }
   ],
   "source": [
    "arr15 = np.arange(1, 10).reshape(3,3)\n",
    "print(arr15)\n",
    "arr15.reshape(1,9)\n",
    "arr15.reshape(9,1)"
   ]
  },
  {
   "cell_type": "code",
   "execution_count": 63,
   "metadata": {},
   "outputs": [
    {
     "data": {
      "text/plain": [
       "array([[85, 42, 51, 82, 35],\n",
       "       [22, 38, 14, 21, 48],\n",
       "       [10, 41, 19, 83, 55],\n",
       "       [96, 84, 35, 50, 56],\n",
       "       [87, 47, 44, 30, 90]])"
      ]
     },
     "execution_count": 63,
     "metadata": {},
     "output_type": "execute_result"
    }
   ],
   "source": [
    "arr16 = np.random.randint(1,100, size=(5,5)).flatten()\n",
    "arr16\n",
    "arr16.reshape(5,5)"
   ]
  },
  {
   "cell_type": "code",
   "execution_count": 71,
   "metadata": {},
   "outputs": [
    {
     "name": "stdout",
     "output_type": "stream",
     "text": [
      "[[69 77 40 60 98]\n",
      " [96 82 79 97 80]\n",
      " [63 54 15 83 67]\n",
      " [40 48 37 45 75]\n",
      " [39 40 48 14 28]]\n",
      "69 98 39 28\n"
     ]
    }
   ],
   "source": [
    "arr17 = np.random.randint(1, 100, size=(5,5))\n",
    "arr17\n",
    "print(arr17)\n",
    "print(arr17[0, 0], arr17[0, -1], arr17[-1, 0], arr17[-1, -1])"
   ]
  },
  {
   "cell_type": "code",
   "execution_count": 78,
   "metadata": {},
   "outputs": [
    {
     "name": "stdout",
     "output_type": "stream",
     "text": [
      "[[10  7 10 10]\n",
      " [10 10 10 10]\n",
      " [10 10 10  6]\n",
      " [10 10 10 10]]\n"
     ]
    }
   ],
   "source": [
    "arr18 = np.random.randint(1,100, size=(4,4))\n",
    "arr18[arr18 > 10] = 10\n",
    "print(arr18)"
   ]
  },
  {
   "cell_type": "code",
   "execution_count": 83,
   "metadata": {},
   "outputs": [
    {
     "name": "stdout",
     "output_type": "stream",
     "text": [
      "[('Richard', 20, 78.9) ('Hardik', 81, 70.5)]\n"
     ]
    }
   ],
   "source": [
    "data_type = [('name', 'U10'), ('age', 'i4'), ('weight', 'f4')]\n",
    "data = np.array([(\"Hardik\", 81, 70.5), (\"Richard\", 20, 78.9)], dtype=data_type)\n",
    "\n",
    "data = np.sort(data, order=\"age\")\n",
    "print(data)\n"
   ]
  },
  {
   "cell_type": "code",
   "execution_count": 86,
   "metadata": {},
   "outputs": [
    {
     "name": "stdout",
     "output_type": "stream",
     "text": [
      "[[79 51 19 32]\n",
      " [11 94 78 79]\n",
      " [23 99 75 54]\n",
      " [ 4 68 69  1]]\n",
      "[[0 0 0 0]\n",
      " [0 0 0 0]\n",
      " [0 0 0 0]\n",
      " [4 0 0 1]]\n",
      "5\n"
     ]
    }
   ],
   "source": [
    "arr19 = np.random.randint(1, 100, size=(4,4))\n",
    "print(arr19)\n",
    "arr19[arr19 > 10] = 0\n",
    "print(arr19)\n",
    "print(arr19[arr19 != 0].sum())"
   ]
  },
  {
   "cell_type": "code",
   "execution_count": 87,
   "metadata": {},
   "outputs": [
    {
     "name": "stdout",
     "output_type": "stream",
     "text": [
      "[[59 18 95]\n",
      " [38  7 34]\n",
      " [63 45 27]]\n",
      "[[ 0 18 95]\n",
      " [38  0 34]\n",
      " [63 45  0]]\n",
      "48.833333333333336\n",
      "[[48 18 95]\n",
      " [38 48 34]\n",
      " [63 45 48]]\n"
     ]
    }
   ],
   "source": [
    "arr19 = np.random.randint(1, 100, size=(3,3))\n",
    "print(arr19)\n",
    "np.fill_diagonal(arr19, 0)\n",
    "print(arr19)\n",
    "m = (arr19[arr19 != 0].mean())\n",
    "print(m)\n",
    "np.fill_diagonal(arr19, m)\n",
    "print(arr19)\n"
   ]
  },
  {
   "cell_type": "code",
   "execution_count": null,
   "metadata": {},
   "outputs": [],
   "source": []
  }
 ],
 "metadata": {
  "kernelspec": {
   "display_name": "Python 3",
   "language": "python",
   "name": "python3"
  },
  "language_info": {
   "codemirror_mode": {
    "name": "ipython",
    "version": 3
   },
   "file_extension": ".py",
   "mimetype": "text/x-python",
   "name": "python",
   "nbconvert_exporter": "python",
   "pygments_lexer": "ipython3",
   "version": "3.12.4"
  }
 },
 "nbformat": 4,
 "nbformat_minor": 2
}
