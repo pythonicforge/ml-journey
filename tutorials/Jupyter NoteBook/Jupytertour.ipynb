{
 "cells": [
  {
   "cell_type": "code",
   "execution_count": 1,
   "id": "1e0648fd-9d67-4e9d-8af1-ad12f950dffb",
   "metadata": {
    "scrolled": true
   },
   "outputs": [
    {
     "name": "stdout",
     "output_type": "stream",
     "text": [
      "Hello jupyter notebook\n"
     ]
    }
   ],
   "source": [
    "print(\"Hello jupyter notebook\")"
   ]
  },
  {
   "cell_type": "code",
   "execution_count": 2,
   "id": "91caca62-d64c-44fe-bbde-cd3d18be52c7",
   "metadata": {},
   "outputs": [
    {
     "data": {
      "text/plain": [
       "\u001b[0;31mSignature:\u001b[0m \u001b[0mlen\u001b[0m\u001b[0;34m(\u001b[0m\u001b[0mobj\u001b[0m\u001b[0;34m,\u001b[0m \u001b[0;34m/\u001b[0m\u001b[0;34m)\u001b[0m\u001b[0;34m\u001b[0m\u001b[0;34m\u001b[0m\u001b[0m\n",
       "\u001b[0;31mDocstring:\u001b[0m Return the number of items in a container.\n",
       "\u001b[0;31mType:\u001b[0m      builtin_function_or_method"
      ]
     },
     "metadata": {},
     "output_type": "display_data"
    }
   ],
   "source": [
    "len?"
   ]
  },
  {
   "cell_type": "code",
   "execution_count": 6,
   "id": "e2d3bd9d-dc7d-445d-89be-2b799f8af399",
   "metadata": {},
   "outputs": [
    {
     "name": "stdout",
     "output_type": "stream",
     "text": [
      "None\n"
     ]
    }
   ],
   "source": [
    "lst = [1,2,3,4,5,6,7]\n",
    "print(lst.reverse())"
   ]
  },
  {
   "cell_type": "code",
   "execution_count": 7,
   "id": "468b08dc-2d12-4bb8-9de9-0dd2028a133e",
   "metadata": {},
   "outputs": [
    {
     "data": {
      "text/plain": [
       "\u001b[0;31mType:\u001b[0m        list\n",
       "\u001b[0;31mString form:\u001b[0m [7, 6, 5, 4, 3, 2, 1]\n",
       "\u001b[0;31mLength:\u001b[0m      7\n",
       "\u001b[0;31mDocstring:\u001b[0m  \n",
       "Built-in mutable sequence.\n",
       "\n",
       "If no argument is given, the constructor creates a new empty list.\n",
       "The argument must be an iterable if specified."
      ]
     },
     "metadata": {},
     "output_type": "display_data"
    }
   ],
   "source": [
    "lst??"
   ]
  },
  {
   "cell_type": "code",
   "execution_count": 8,
   "id": "a3629df4-d322-4a6d-b74d-c4bfba14c69d",
   "metadata": {},
   "outputs": [
    {
     "data": {
      "text/plain": [
       "\u001b[0;31mSignature:\u001b[0m \u001b[0mprint\u001b[0m\u001b[0;34m(\u001b[0m\u001b[0;34m*\u001b[0m\u001b[0margs\u001b[0m\u001b[0;34m,\u001b[0m \u001b[0msep\u001b[0m\u001b[0;34m=\u001b[0m\u001b[0;34m' '\u001b[0m\u001b[0;34m,\u001b[0m \u001b[0mend\u001b[0m\u001b[0;34m=\u001b[0m\u001b[0;34m'\\n'\u001b[0m\u001b[0;34m,\u001b[0m \u001b[0mfile\u001b[0m\u001b[0;34m=\u001b[0m\u001b[0;32mNone\u001b[0m\u001b[0;34m,\u001b[0m \u001b[0mflush\u001b[0m\u001b[0;34m=\u001b[0m\u001b[0;32mFalse\u001b[0m\u001b[0;34m)\u001b[0m\u001b[0;34m\u001b[0m\u001b[0;34m\u001b[0m\u001b[0m\n",
       "\u001b[0;31mDocstring:\u001b[0m\n",
       "Prints the values to a stream, or to sys.stdout by default.\n",
       "\n",
       "sep\n",
       "  string inserted between values, default a space.\n",
       "end\n",
       "  string appended after the last value, default a newline.\n",
       "file\n",
       "  a file-like object (stream); defaults to the current sys.stdout.\n",
       "flush\n",
       "  whether to forcibly flush the stream.\n",
       "\u001b[0;31mType:\u001b[0m      builtin_function_or_method"
      ]
     },
     "metadata": {},
     "output_type": "display_data"
    }
   ],
   "source": [
    "print??"
   ]
  },
  {
   "cell_type": "code",
   "execution_count": 11,
   "id": "f545b874-4ca8-4ec8-be89-b4bb8f761292",
   "metadata": {},
   "outputs": [
    {
     "data": {
      "text/plain": [
       "BytesWarning\n",
       "DeprecationWarning\n",
       "EncodingWarning\n",
       "FutureWarning\n",
       "ImportWarning\n",
       "PendingDeprecationWarning\n",
       "ResourceWarning\n",
       "RuntimeWarning\n",
       "SyntaxWarning\n",
       "UnicodeWarning\n",
       "UserWarning\n",
       "Warning"
      ]
     },
     "metadata": {},
     "output_type": "display_data"
    }
   ],
   "source": [
    "*Warning?"
   ]
  },
  {
   "cell_type": "code",
   "execution_count": 12,
   "id": "c4560470-cff8-4f8c-be96-6dde5bb8a515",
   "metadata": {},
   "outputs": [
    {
     "name": "stdout",
     "output_type": "stream",
     "text": [
      "Object `Stream` not found.\n"
     ]
    }
   ],
   "source": [
    "@Stream?"
   ]
  },
  {
   "cell_type": "code",
   "execution_count": 13,
   "id": "f5ad1d15-8b63-427d-b17c-2021cb324b92",
   "metadata": {},
   "outputs": [
    {
     "data": {
      "text/plain": []
     },
     "metadata": {},
     "output_type": "display_data"
    }
   ],
   "source": [
    "*Stream?"
   ]
  },
  {
   "cell_type": "code",
   "execution_count": 19,
   "id": "6ed1f234-406d-4311-b026-ffd797d3a31d",
   "metadata": {},
   "outputs": [
    {
     "name": "stdout",
     "output_type": "stream",
     "text": [
      "1.03 μs ± 8.43 ns per loop (mean ± std. dev. of 7 runs, 1,000,000 loops each)\n"
     ]
    }
   ],
   "source": [
    "# %run is used to run external scripts inside the sane folder\n",
    "%timeit L = [n ** 2 for n in range(50)]"
   ]
  },
  {
   "cell_type": "code",
   "execution_count": 20,
   "id": "158ff530-1cd1-4be1-b498-1abd8aa4ba44",
   "metadata": {},
   "outputs": [
    {
     "data": {
      "text/plain": [
       "\u001b[0;31mDocstring:\u001b[0m\n",
       "Time execution of a Python statement or expression\n",
       "\n",
       "**Usage, in line mode:**\n",
       "\n",
       "  %timeit [-n<N> -r<R> [-t|-c] -q -p<P> -o] statement\n",
       "\n",
       "**or in cell mode:**\n",
       "\n",
       "  %%timeit [-n<N> -r<R> [-t|-c] -q -p<P> -o] setup_code\n",
       "\n",
       "  code\n",
       "\n",
       "  code...\n",
       "\n",
       "Time execution of a Python statement or expression using the timeit\n",
       "module.  This function can be used both as a line and cell magic:\n",
       "\n",
       "- In line mode you can time a single-line statement (though multiple\n",
       "  ones can be chained with using semicolons).\n",
       "\n",
       "- In cell mode, the statement in the first line is used as setup code\n",
       "  (executed but not timed) and the body of the cell is timed.  The cell\n",
       "  body has access to any variables created in the setup code.\n",
       "\n",
       "Options:\n",
       "\n",
       "-n<N>: execute the given statement <N> times in a loop. If <N> is not\n",
       "provided, <N> is determined so as to get sufficient accuracy.\n",
       "\n",
       "-r<R>: number of repeats <R>, each consisting of <N> loops, and take the\n",
       "average result.\n",
       "Default: 7\n",
       "\n",
       "-t: use time.time to measure the time, which is the default on Unix.\n",
       "This function measures wall time.\n",
       "\n",
       "-c: use time.clock to measure the time, which is the default on\n",
       "Windows and measures wall time. On Unix, resource.getrusage is used\n",
       "instead and returns the CPU user time.\n",
       "\n",
       "-p<P>: use a precision of <P> digits to display the timing result.\n",
       "Default: 3\n",
       "\n",
       "-q: Quiet, do not print result.\n",
       "\n",
       "-o: return a TimeitResult that can be stored in a variable to inspect\n",
       "the result in more details.\n",
       "\n",
       ".. versionchanged:: 7.3\n",
       "    User variables are no longer expanded,\n",
       "    the magic line is always left unmodified.\n",
       "\n",
       "Examples\n",
       "--------\n",
       "::\n",
       "\n",
       "  In [1]: %timeit pass\n",
       "  8.26 ns ± 0.12 ns per loop (mean ± std. dev. of 7 runs, 100000000 loops each)\n",
       "\n",
       "  In [2]: u = None\n",
       "\n",
       "  In [3]: %timeit u is None\n",
       "  29.9 ns ± 0.643 ns per loop (mean ± std. dev. of 7 runs, 10000000 loops each)\n",
       "\n",
       "  In [4]: %timeit -r 4 u == None\n",
       "\n",
       "  In [5]: import time\n",
       "\n",
       "  In [6]: %timeit -n1 time.sleep(2)\n",
       "\n",
       "The times reported by %timeit will be slightly higher than those\n",
       "reported by the timeit.py script when variables are accessed. This is\n",
       "due to the fact that %timeit executes the statement in the namespace\n",
       "of the shell, compared with timeit.py, which uses a single setup\n",
       "statement to import function or create variables. Generally, the bias\n",
       "does not matter as long as results from timeit.py are not mixed with\n",
       "those from %timeit.\n",
       "\u001b[0;31mFile:\u001b[0m      /opt/homebrew/Caskroom/miniconda/base/lib/python3.12/site-packages/IPython/core/magics/execution.py"
      ]
     },
     "metadata": {},
     "output_type": "display_data"
    }
   ],
   "source": [
    "%timeit?"
   ]
  },
  {
   "cell_type": "code",
   "execution_count": 21,
   "id": "c687cc30-17c3-41de-b63e-1a7944fc3de4",
   "metadata": {},
   "outputs": [
    {
     "data": {
      "text/plain": [
       "\u001b[0;31mDocstring:\u001b[0m\n",
       "Print information about the magic function system.\n",
       "\n",
       "Supported formats: -latex, -brief, -rest\n",
       "\u001b[0;31mFile:\u001b[0m      /opt/homebrew/Caskroom/miniconda/base/lib/python3.12/site-packages/IPython/core/magics/basic.py"
      ]
     },
     "metadata": {},
     "output_type": "display_data"
    }
   ],
   "source": [
    "%magic?"
   ]
  },
  {
   "cell_type": "code",
   "execution_count": 23,
   "id": "72aa188b-32a0-4900-af5a-99527429c435",
   "metadata": {},
   "outputs": [
    {
     "data": {
      "text/plain": [
       "\u001b[0;31mDocstring:\u001b[0m List currently available magic functions.\n",
       "\u001b[0;31mFile:\u001b[0m      /opt/homebrew/Caskroom/miniconda/base/lib/python3.12/site-packages/IPython/core/magics/basic.py"
      ]
     },
     "metadata": {},
     "output_type": "display_data"
    }
   ],
   "source": [
    "%lsmagic?"
   ]
  },
  {
   "cell_type": "code",
   "execution_count": 24,
   "id": "6a55e5dc-1c14-434a-b1e1-3cfc1e25a749",
   "metadata": {},
   "outputs": [],
   "source": [
    "# The In[] and Out[] are Python variables that store the history here like"
   ]
  },
  {
   "cell_type": "code",
   "execution_count": 25,
   "id": "7cfaf46b-8801-4056-8715-f4e14e91e9ec",
   "metadata": {},
   "outputs": [
    {
     "name": "stdout",
     "output_type": "stream",
     "text": [
      "print(\"Hello jupyter notebook\")\n"
     ]
    }
   ],
   "source": [
    "print(In[1])"
   ]
  },
  {
   "cell_type": "code",
   "execution_count": 28,
   "id": "b70009bb-e5a8-4f8b-b98f-5cd18f3a6397",
   "metadata": {},
   "outputs": [
    {
     "name": "stdout",
     "output_type": "stream",
     "text": [
      "get_ipython().run_line_magic('pinfo', '%timeit')\n"
     ]
    }
   ],
   "source": [
    "print(In[20])"
   ]
  },
  {
   "cell_type": "code",
   "execution_count": 32,
   "id": "0bd06486-a50f-44e0-baf3-fabc61940f34",
   "metadata": {},
   "outputs": [
    {
     "name": "stdout",
     "output_type": "stream",
     "text": [
      "\u001b[1m\u001b[36mApplications\u001b[m\u001b[m    \u001b[1m\u001b[36mDownloads\u001b[m\u001b[m       \u001b[1m\u001b[36mMusic\u001b[m\u001b[m           \u001b[1m\u001b[36mdevclub-website\u001b[m\u001b[m\n",
      "\u001b[1m\u001b[36mDesktop\u001b[m\u001b[m         \u001b[1m\u001b[36mLibrary\u001b[m\u001b[m         \u001b[1m\u001b[36mPictures\u001b[m\u001b[m        mac_privatekey\n",
      "\u001b[1m\u001b[36mDocuments\u001b[m\u001b[m       \u001b[1m\u001b[36mMovies\u001b[m\u001b[m          \u001b[1m\u001b[36mPublic\u001b[m\u001b[m          mac_publickey\n"
     ]
    }
   ],
   "source": [
    "# We can also access the shell commands in here\n",
    "!ls"
   ]
  },
  {
   "cell_type": "code",
   "execution_count": 33,
   "id": "e696ddbf-6f07-4015-9832-e2cbda431eb2",
   "metadata": {},
   "outputs": [
    {
     "name": "stdout",
     "output_type": "stream",
     "text": [
      "/Users/hardikjaiswal\n"
     ]
    }
   ],
   "source": [
    "!pwd"
   ]
  },
  {
   "cell_type": "code",
   "execution_count": 34,
   "id": "22ffeb48-2121-4b4c-82e0-380dbad35f36",
   "metadata": {},
   "outputs": [],
   "source": [
    "!cd"
   ]
  },
  {
   "cell_type": "code",
   "execution_count": 35,
   "id": "7557ddf1-bb78-40fa-850f-45a25922989c",
   "metadata": {},
   "outputs": [],
   "source": [
    "!touch temp.py"
   ]
  },
  {
   "cell_type": "code",
   "execution_count": 36,
   "id": "779ea11c-7461-4740-a3b6-adace5dbc799",
   "metadata": {},
   "outputs": [
    {
     "name": "stdout",
     "output_type": "stream",
     "text": [
      "\u001b[1m\u001b[36mApplications\u001b[m\u001b[m    \u001b[1m\u001b[36mDownloads\u001b[m\u001b[m       \u001b[1m\u001b[36mMusic\u001b[m\u001b[m           \u001b[1m\u001b[36mdevclub-website\u001b[m\u001b[m temp.py\n",
      "\u001b[1m\u001b[36mDesktop\u001b[m\u001b[m         \u001b[1m\u001b[36mLibrary\u001b[m\u001b[m         \u001b[1m\u001b[36mPictures\u001b[m\u001b[m        mac_privatekey\n",
      "\u001b[1m\u001b[36mDocuments\u001b[m\u001b[m       \u001b[1m\u001b[36mMovies\u001b[m\u001b[m          \u001b[1m\u001b[36mPublic\u001b[m\u001b[m          mac_publickey\n"
     ]
    }
   ],
   "source": [
    "!ls"
   ]
  },
  {
   "cell_type": "code",
   "execution_count": 37,
   "id": "4bef556f-ca95-4497-a7b6-2dc5113167a3",
   "metadata": {},
   "outputs": [],
   "source": [
    "!rm -rf temp.py"
   ]
  },
  {
   "cell_type": "code",
   "execution_count": null,
   "id": "01cb8368-a686-4e58-8bc5-482e82619423",
   "metadata": {},
   "outputs": [],
   "source": []
  }
 ],
 "metadata": {
  "kernelspec": {
   "display_name": "Python 3 (ipykernel)",
   "language": "python",
   "name": "python3"
  },
  "language_info": {
   "codemirror_mode": {
    "name": "ipython",
    "version": 3
   },
   "file_extension": ".py",
   "mimetype": "text/x-python",
   "name": "python",
   "nbconvert_exporter": "python",
   "pygments_lexer": "ipython3",
   "version": "3.12.8"
  }
 },
 "nbformat": 4,
 "nbformat_minor": 5
}
