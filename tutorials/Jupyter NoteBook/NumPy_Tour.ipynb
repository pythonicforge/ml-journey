{
 "cells": [
  {
   "cell_type": "code",
   "execution_count": 2,
   "id": "efb89efb-d13d-4159-a321-5baa7ed6b9de",
   "metadata": {},
   "outputs": [
    {
     "name": "stdout",
     "output_type": "stream",
     "text": [
      "Requirement already satisfied: numpy in /opt/homebrew/Caskroom/miniconda/base/lib/python3.12/site-packages (2.2.3)\n"
     ]
    }
   ],
   "source": [
    "!pip install numpy"
   ]
  },
  {
   "cell_type": "code",
   "execution_count": 3,
   "id": "24b65db9-a27c-4d15-ad9e-e560eb1cc8db",
   "metadata": {},
   "outputs": [
    {
     "name": "stdout",
     "output_type": "stream",
     "text": [
      "2.2.3\n"
     ]
    }
   ],
   "source": [
    "import numpy as np\n",
    "print(np.__version__)"
   ]
  },
  {
   "cell_type": "code",
   "execution_count": 8,
   "id": "e07db309-1d57-4804-a174-2e981582327b",
   "metadata": {},
   "outputs": [
    {
     "data": {
      "text/plain": [
       "array([1, 2, 3, 4, 5])"
      ]
     },
     "execution_count": 8,
     "metadata": {},
     "output_type": "execute_result"
    }
   ],
   "source": [
    "# Create a nomral NumPy array\n",
    "arr1 = np.array([1,2,3,4,5])\n",
    "arr1"
   ]
  },
  {
   "cell_type": "code",
   "execution_count": 18,
   "id": "8be7a5d1-84b9-4649-a3bb-b230c5d3b782",
   "metadata": {},
   "outputs": [
    {
     "data": {
      "text/plain": [
       "array([[0., 0., 0., 0.],\n",
       "       [0., 0., 0., 0.],\n",
       "       [0., 0., 0., 0.]])"
      ]
     },
     "execution_count": 18,
     "metadata": {},
     "output_type": "execute_result"
    }
   ],
   "source": [
    "# Create an numpy array of size 3x4 filled wth zeros\n",
    "\n",
    "arr2 = np.zeros((3,4), dtype=float)\n",
    "arr2"
   ]
  },
  {
   "cell_type": "code",
   "execution_count": 19,
   "id": "7cff7b96-b45d-4db9-8e49-c50d1d6799b3",
   "metadata": {},
   "outputs": [
    {
     "data": {
      "text/plain": [
       "array([[1, 1, 1, 1],\n",
       "       [1, 1, 1, 1],\n",
       "       [1, 1, 1, 1]])"
      ]
     },
     "execution_count": 19,
     "metadata": {},
     "output_type": "execute_result"
    }
   ],
   "source": [
    "# Create an numpy array of size 3x4 filled wth ones\n",
    "\n",
    "arr3 = np.ones((3,4), dtype=int)\n",
    "arr3"
   ]
  },
  {
   "cell_type": "code",
   "execution_count": 21,
   "id": "9c3a94ee-8ad4-4a2a-82d1-a5f60fe33eee",
   "metadata": {},
   "outputs": [
    {
     "data": {
      "text/plain": [
       "array([[69, 69, 69, 69],\n",
       "       [69, 69, 69, 69],\n",
       "       [69, 69, 69, 69]])"
      ]
     },
     "execution_count": 21,
     "metadata": {},
     "output_type": "execute_result"
    }
   ],
   "source": [
    "# Create an numpy array of size 3x4 filled wth 69\n",
    "\n",
    "arr4 = np.full((3,4), 69)\n",
    "arr4"
   ]
  },
  {
   "cell_type": "code",
   "execution_count": 24,
   "id": "7d00916b-d63e-4cc5-b3e7-783a58f3c608",
   "metadata": {},
   "outputs": [
    {
     "data": {
      "text/plain": [
       "array([ 0, 10, 20, 30, 40, 50, 60, 70, 80, 90])"
      ]
     },
     "execution_count": 24,
     "metadata": {},
     "output_type": "execute_result"
    }
   ],
   "source": [
    "# Create an numpy array of elements from 0 to 100, with an even spacing of 10\n",
    "\n",
    "arr5 = np.arange(0, 100, 10)\n",
    "arr5"
   ]
  },
  {
   "cell_type": "code",
   "execution_count": 53,
   "id": "b54a0c3e-1eb8-4790-b6b0-f6afb994aabc",
   "metadata": {},
   "outputs": [
    {
     "data": {
      "text/plain": [
       "array([  0.        ,  33.33333333,  66.66666667, 100.        ])"
      ]
     },
     "execution_count": 53,
     "metadata": {},
     "output_type": "execute_result"
    }
   ],
   "source": [
    "# Create an numpy array of elements between 0 and 100, with an even gap of 4\n",
    "\n",
    "arr6 = np.linspace(0, 100, 4)\n",
    "arr6"
   ]
  },
  {
   "cell_type": "code",
   "execution_count": 34,
   "id": "dd2065a8-a6f9-4e8f-bbf5-2f913846e1ac",
   "metadata": {},
   "outputs": [
    {
     "data": {
      "text/plain": [
       "array([[0.45660071, 0.85950485, 0.30601569],\n",
       "       [0.28704414, 0.4236545 , 0.55613665],\n",
       "       [0.64014147, 0.34579946, 0.15779539]])"
      ]
     },
     "execution_count": 34,
     "metadata": {},
     "output_type": "execute_result"
    }
   ],
   "source": [
    "# Create an numpy array of elements filled randomly of size 3x3\n",
    "\n",
    "arr7 = np.random.random((3,3))\n",
    "arr7"
   ]
  },
  {
   "cell_type": "code",
   "execution_count": 40,
   "id": "636d24ad-d284-42af-9f29-991c3cb0c0b7",
   "metadata": {},
   "outputs": [
    {
     "data": {
      "text/plain": [
       "array([[31.34248433, 11.75899162, 24.61222402, 16.36365653],\n",
       "       [13.27544937, 16.83265256,  8.04652426, -6.79691542],\n",
       "       [ 1.56624409, 15.12594755, 17.01038723,  9.84349793]])"
      ]
     },
     "execution_count": 40,
     "metadata": {},
     "output_type": "execute_result"
    }
   ],
   "source": [
    "# Create an numpy array of elements filled with elem\n",
    "\n",
    "arr8 = np.random.normal(10, 10,(3,4))\n",
    "arr8"
   ]
  },
  {
   "cell_type": "code",
   "execution_count": 41,
   "id": "f5c9878e-e11a-4c05-b99d-cc6d2e7d5c8c",
   "metadata": {},
   "outputs": [
    {
     "data": {
      "text/plain": [
       "array([[2, 7, 5, 7, 4],\n",
       "       [1, 0, 0, 9, 7],\n",
       "       [2, 6, 7, 0, 8],\n",
       "       [3, 7, 5, 9, 9],\n",
       "       [1, 9, 1, 3, 1]])"
      ]
     },
     "execution_count": 41,
     "metadata": {},
     "output_type": "execute_result"
    }
   ],
   "source": [
    "arr9 = np.random.randint(0, 10, (5,5))\n",
    "arr9"
   ]
  },
  {
   "cell_type": "code",
   "execution_count": 49,
   "id": "03d22603-357d-408b-946c-43a3133e9f32",
   "metadata": {},
   "outputs": [
    {
     "data": {
      "text/plain": [
       "array([[1., 0., 0., 0., 0., 0., 0., 0., 0., 0.],\n",
       "       [0., 1., 0., 0., 0., 0., 0., 0., 0., 0.],\n",
       "       [0., 0., 1., 0., 0., 0., 0., 0., 0., 0.],\n",
       "       [0., 0., 0., 1., 0., 0., 0., 0., 0., 0.],\n",
       "       [0., 0., 0., 0., 1., 0., 0., 0., 0., 0.],\n",
       "       [0., 0., 0., 0., 0., 1., 0., 0., 0., 0.],\n",
       "       [0., 0., 0., 0., 0., 0., 1., 0., 0., 0.],\n",
       "       [0., 0., 0., 0., 0., 0., 0., 1., 0., 0.],\n",
       "       [0., 0., 0., 0., 0., 0., 0., 0., 1., 0.],\n",
       "       [0., 0., 0., 0., 0., 0., 0., 0., 0., 1.]])"
      ]
     },
     "execution_count": 49,
     "metadata": {},
     "output_type": "execute_result"
    }
   ],
   "source": [
    "arr10 = np.eye(10)\n",
    "arr10"
   ]
  },
  {
   "cell_type": "code",
   "execution_count": 51,
   "id": "69c99123-7bb3-4966-aca9-d9130a115852",
   "metadata": {},
   "outputs": [
    {
     "data": {
      "text/plain": [
       "array([1., 1., 1., 1., 1., 1., 1., 1., 1., 1.])"
      ]
     },
     "execution_count": 51,
     "metadata": {},
     "output_type": "execute_result"
    }
   ],
   "source": [
    "arr11 = np.empty(10)\n",
    "arr11"
   ]
  },
  {
   "cell_type": "code",
   "execution_count": null,
   "id": "03b08f14-d3f7-4f66-9a23-600f52cec926",
   "metadata": {},
   "outputs": [],
   "source": []
  }
 ],
 "metadata": {
  "kernelspec": {
   "display_name": "Python 3 (ipykernel)",
   "language": "python",
   "name": "python3"
  },
  "language_info": {
   "codemirror_mode": {
    "name": "ipython",
    "version": 3
   },
   "file_extension": ".py",
   "mimetype": "text/x-python",
   "name": "python",
   "nbconvert_exporter": "python",
   "pygments_lexer": "ipython3",
   "version": "3.12.8"
  }
 },
 "nbformat": 4,
 "nbformat_minor": 5
}
