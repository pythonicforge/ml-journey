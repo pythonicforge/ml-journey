{
 "cells": [
  {
   "cell_type": "markdown",
   "metadata": {},
   "source": [
    "# 🎲 NumPy-Powered Rolling Dice Simulator with Analytics\n",
    "#### A virtual dice roller that simulates rolling a die multiple times, stores the results, and then shows the execution time"
   ]
  },
  {
   "cell_type": "code",
   "execution_count": 4,
   "metadata": {},
   "outputs": [],
   "source": [
    "import numpy as np\n",
    "import time"
   ]
  },
  {
   "cell_type": "code",
   "execution_count": 12,
   "metadata": {},
   "outputs": [
    {
     "name": "stdout",
     "output_type": "stream",
     "text": [
      "biased_dice ran in 4.5135109424591064 secs\n"
     ]
    }
   ],
   "source": [
    "def time_it(func):\n",
    "    def wrapper(*args, **kwargs):\n",
    "        prev_time = time.time()\n",
    "        for val in func(*args, **kwargs):\n",
    "            yield val\n",
    "        curr_time = time.time()\n",
    "        print(f\"{func.__name__} ran in {curr_time - prev_time} secs\")\n",
    "    return wrapper\n",
    "\n",
    "@time_it\n",
    "def unbiased_dice(n):\n",
    "    for _ in range(n):\n",
    "        yield np.random.randint(1,7)\n",
    "\n",
    "@time_it\n",
    "def biased_dice(n):\n",
    "    for _ in range(n):\n",
    "        yield np.random.choice([1,2,3,4,5,6], p=[0.2, 0.1, 0.1, 0.1, 0.2, 0.3])\n",
    "\n",
    "for roll in biased_dice(1000000):\n",
    "    pass"
   ]
  },
  {
   "cell_type": "code",
   "execution_count": null,
   "metadata": {},
   "outputs": [],
   "source": []
  }
 ],
 "metadata": {
  "kernelspec": {
   "display_name": "venv",
   "language": "python",
   "name": "python3"
  },
  "language_info": {
   "codemirror_mode": {
    "name": "ipython",
    "version": 3
   },
   "file_extension": ".py",
   "mimetype": "text/x-python",
   "name": "python",
   "nbconvert_exporter": "python",
   "pygments_lexer": "ipython3",
   "version": "3.12.0"
  }
 },
 "nbformat": 4,
 "nbformat_minor": 2
}
