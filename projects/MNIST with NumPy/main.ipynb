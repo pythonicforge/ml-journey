{
 "cells": [
  {
   "cell_type": "code",
   "execution_count": 2,
   "id": "684f643e-c630-46da-a6d7-be3176ad02d6",
   "metadata": {},
   "outputs": [
    {
     "name": "stdout",
     "output_type": "stream",
     "text": [
      "Collecting pandas\n",
      "  Using cached pandas-2.2.3-cp312-cp312-macosx_11_0_arm64.whl.metadata (89 kB)\n",
      "Requirement already satisfied: numpy in /opt/homebrew/Caskroom/miniconda/base/lib/python3.12/site-packages (2.2.3)\n",
      "Collecting matplotlib\n",
      "  Using cached matplotlib-3.10.0-cp312-cp312-macosx_11_0_arm64.whl.metadata (11 kB)\n",
      "Requirement already satisfied: python-dateutil>=2.8.2 in /opt/homebrew/Caskroom/miniconda/base/lib/python3.12/site-packages (from pandas) (2.9.0.post0)\n",
      "Collecting pytz>=2020.1 (from pandas)\n",
      "  Using cached pytz-2025.1-py2.py3-none-any.whl.metadata (22 kB)\n",
      "Collecting tzdata>=2022.7 (from pandas)\n",
      "  Using cached tzdata-2025.1-py2.py3-none-any.whl.metadata (1.4 kB)\n",
      "Collecting contourpy>=1.0.1 (from matplotlib)\n",
      "  Using cached contourpy-1.3.1-cp312-cp312-macosx_11_0_arm64.whl.metadata (5.4 kB)\n",
      "Collecting cycler>=0.10 (from matplotlib)\n",
      "  Using cached cycler-0.12.1-py3-none-any.whl.metadata (3.8 kB)\n",
      "Collecting fonttools>=4.22.0 (from matplotlib)\n",
      "  Downloading fonttools-4.56.0-cp312-cp312-macosx_10_13_universal2.whl.metadata (101 kB)\n",
      "Collecting kiwisolver>=1.3.1 (from matplotlib)\n",
      "  Using cached kiwisolver-1.4.8-cp312-cp312-macosx_11_0_arm64.whl.metadata (6.2 kB)\n",
      "Requirement already satisfied: packaging>=20.0 in /opt/homebrew/Caskroom/miniconda/base/lib/python3.12/site-packages (from matplotlib) (24.1)\n",
      "Collecting pillow>=8 (from matplotlib)\n",
      "  Using cached pillow-11.1.0-cp312-cp312-macosx_11_0_arm64.whl.metadata (9.1 kB)\n",
      "Collecting pyparsing>=2.3.1 (from matplotlib)\n",
      "  Using cached pyparsing-3.2.1-py3-none-any.whl.metadata (5.0 kB)\n",
      "Requirement already satisfied: six>=1.5 in /opt/homebrew/Caskroom/miniconda/base/lib/python3.12/site-packages (from python-dateutil>=2.8.2->pandas) (1.16.0)\n",
      "Using cached pandas-2.2.3-cp312-cp312-macosx_11_0_arm64.whl (11.4 MB)\n",
      "Using cached matplotlib-3.10.0-cp312-cp312-macosx_11_0_arm64.whl (8.0 MB)\n",
      "Using cached contourpy-1.3.1-cp312-cp312-macosx_11_0_arm64.whl (255 kB)\n",
      "Using cached cycler-0.12.1-py3-none-any.whl (8.3 kB)\n",
      "Downloading fonttools-4.56.0-cp312-cp312-macosx_10_13_universal2.whl (2.7 MB)\n",
      "\u001b[2K   \u001b[90m━━━━━━━━━━━━━━━━━━━━━━━━━━━━━━━━━━━━━━━━\u001b[0m \u001b[32m2.7/2.7 MB\u001b[0m \u001b[31m12.4 MB/s\u001b[0m eta \u001b[36m0:00:00\u001b[0ma \u001b[36m0:00:01\u001b[0m\n",
      "\u001b[?25hUsing cached kiwisolver-1.4.8-cp312-cp312-macosx_11_0_arm64.whl (65 kB)\n",
      "Using cached pillow-11.1.0-cp312-cp312-macosx_11_0_arm64.whl (3.1 MB)\n",
      "Using cached pyparsing-3.2.1-py3-none-any.whl (107 kB)\n",
      "Using cached pytz-2025.1-py2.py3-none-any.whl (507 kB)\n",
      "Using cached tzdata-2025.1-py2.py3-none-any.whl (346 kB)\n",
      "Installing collected packages: pytz, tzdata, pyparsing, pillow, kiwisolver, fonttools, cycler, contourpy, pandas, matplotlib\n",
      "Successfully installed contourpy-1.3.1 cycler-0.12.1 fonttools-4.56.0 kiwisolver-1.4.8 matplotlib-3.10.0 pandas-2.2.3 pillow-11.1.0 pyparsing-3.2.1 pytz-2025.1 tzdata-2025.1\n"
     ]
    }
   ],
   "source": [
    "!pip install pandas numpy matplotlib"
   ]
  },
  {
   "cell_type": "code",
   "execution_count": 3,
   "id": "8532d9dc-db1c-43f3-8882-359f02a685f6",
   "metadata": {},
   "outputs": [],
   "source": [
    "import numpy as np\n",
    "import pandas as pd\n",
    "import matplotlib.pyplot as plt"
   ]
  },
  {
   "cell_type": "code",
   "execution_count": 4,
   "id": "8656bcd0-0c63-4b6a-bbfa-9500e1ba691a",
   "metadata": {},
   "outputs": [],
   "source": [
    "data = pd.read_csv(\"train.csv\")"
   ]
  },
  {
   "cell_type": "code",
   "execution_count": 7,
   "id": "3f48804f-eaa1-468f-9704-f8f10a5ac685",
   "metadata": {},
   "outputs": [],
   "source": [
    "data = np.array(data)\n",
    "m, n = data.shape\n",
    "np.random.shuffle(data) # shuffle before splitting into dev and training sets\n",
    "\n",
    "data_dev = data[0:1000].T\n",
    "Y_dev = data_dev[0]\n",
    "X_dev = data_dev[1:n]\n",
    "X_dev = X_dev / 255.\n",
    "\n",
    "data_train = data[1000:m].T\n",
    "Y_train = data_train[0]\n",
    "X_train = data_train[1:n]\n",
    "X_train = X_train / 255.\n",
    "_,m_train = X_train.shape"
   ]
  },
  {
   "cell_type": "code",
   "execution_count": 8,
   "id": "5c6517cd-2506-4830-8b41-784a1774fc86",
   "metadata": {},
   "outputs": [],
   "source": [
    "def init_params():\n",
    "    W1 = np.random.rand(10, 784) - 0.5\n",
    "    b1 = np.random.rand(10, 1) - 0.5\n",
    "    W2 = np.random.rand(10, 10) - 0.5\n",
    "    b2 = np.random.rand(10, 1) - 0.5\n",
    "    return W1, b1, W2, b2\n",
    "\n",
    "# Activation function\n",
    "def ReLU(Z):\n",
    "    return np.maximum(0, Z) #So this function just checks if the number is greater then 0 or less than euqal to 0. and returns the desired maximum.\n",
    "\n",
    "def softmax(Z):\n",
    "    expZ = np.exp(Z - np.max(Z, axis=0, keepdims=True))\n",
    "    return expZ / np.sum(expZ, axis=0, keepdims=True) \n",
    "\n",
    "# Forward propagation function\n",
    "def forward_prop(W1, b1, W2, b2, X):\n",
    "    Z1 = W1.dot(X) + b1\n",
    "    A1 = ReLU(Z1)\n",
    "    Z2 = W2.dot(A1) + b2\n",
    "    A2 = softmax(Z2)\n",
    "    return Z1, A1, Z2, A2\n",
    "\n",
    "# One hot encoding logic\n",
    "def one_hot(Y):\n",
    "    one_hot_Y = np.zeros((Y.size, Y.max()+1))\n",
    "    one_hot_Y[np.arange(Y.size), Y] = 1\n",
    "    one_hot_Y = one_hot_Y.T\n",
    "    return one_hot_Y\n",
    "\n",
    "def deriv_ReLU(Z):\n",
    "    return Z > 0\n",
    "\n",
    "# Backward propagation function\n",
    "def backward_prop(Z1, A1, Z2, A2, W2, X, Y):\n",
    "    m = Y.size\n",
    "    one_hot_Y = one_hot(Y)\n",
    "    dZ2 = 2*(A2 - one_hot_Y)\n",
    "    dW2 = (1 / m) * dZ2.dot(A1.T)\n",
    "    db2 = (1 / m) * np.sum(dZ2, axis=1, keepdims=True)\n",
    "    dZ1 = W2.T.dot(dZ2) * deriv_ReLU(Z1)\n",
    "    dW1 = (1 / m) * dZ1.dot(X.T)\n",
    "    db1 = (1 / m) * np.sum(dZ1, axis=1, keepdims=True)\n",
    "\n",
    "    return dW1, db1, dW2, db2\n",
    "\n",
    "def update_params(W1, b1, W2, b2, dW1, db1, dW2, db2, alpha):\n",
    "    W1 = W1 - alpha * dW1\n",
    "    b1 = b1 - alpha * np.reshape(db1, (10,1))\n",
    "    W2 = W2 - alpha * dW2\n",
    "    b2 = b2 - alpha * np.reshape(db2, (10,1))\n",
    "\n",
    "    return W1, b1, W2, b2"
   ]
  },
  {
   "cell_type": "code",
   "execution_count": 9,
   "id": "d20fe8ad-128d-4ce8-bc5e-7e541640eef5",
   "metadata": {},
   "outputs": [],
   "source": [
    "def get_predictions(A2):\n",
    "    return np.argmax(A2, 0)\n",
    "\n",
    "def get_accuracy(predictions, Y):\n",
    "    # print(predictions, Y)\n",
    "    return np.sum(predictions == Y) / Y.size\n",
    "    \n",
    "\n",
    "def gradient_descent(X, Y, iterations, alpha):\n",
    "    W1, b1, W2, b2 = init_params()\n",
    "    for i in range(iterations):\n",
    "        Z1, A1, Z2, A2 = forward_prop(W1, b1, W2, b2, X)\n",
    "        dW1, db1, dW2, db2 = backward_prop(Z1, A1, Z2, A2, W2, X, Y)\n",
    "        W1, b1, W2, b2 = update_params(W1, b1, W2, b2, dW1, db1, dW2, db2, alpha)\n",
    "        loss = -np.mean(Y * np.log(A2 + 1e-8))  # Cross-entropy loss\n",
    "        accuracy = get_accuracy(get_predictions(A2), Y)\n",
    "\n",
    "        if i % 100 == 0:\n",
    "            print(f\"Iteration {i} - Loss: {loss:.4f}, Accuracy: {accuracy:.4f}\")\n",
    "    return W1, b1, W2, b2"
   ]
  },
  {
   "cell_type": "code",
   "execution_count": 10,
   "id": "e2c8bdaa-7a90-4757-9839-3d781db3b974",
   "metadata": {},
   "outputs": [
    {
     "name": "stdout",
     "output_type": "stream",
     "text": [
      "Iteration 0 - Loss: 18.7917, Accuracy: 0.0907\n",
      "Iteration 100 - Loss: 11.2696, Accuracy: 0.2027\n",
      "Iteration 200 - Loss: 11.9282, Accuracy: 0.3519\n",
      "Iteration 300 - Loss: 13.4025, Accuracy: 0.4779\n",
      "Iteration 400 - Loss: 15.2794, Accuracy: 0.5675\n",
      "Iteration 500 - Loss: 17.1969, Accuracy: 0.6183\n",
      "Iteration 600 - Loss: 18.9609, Accuracy: 0.6565\n",
      "Iteration 700 - Loss: 20.5395, Accuracy: 0.6900\n",
      "Iteration 800 - Loss: 21.9416, Accuracy: 0.7171\n",
      "Iteration 900 - Loss: 23.1802, Accuracy: 0.7387\n",
      "Iteration 1000 - Loss: 24.2707, Accuracy: 0.7542\n",
      "Iteration 1100 - Loss: 25.2435, Accuracy: 0.7673\n",
      "Iteration 1200 - Loss: 26.1080, Accuracy: 0.7781\n",
      "Iteration 1300 - Loss: 26.8773, Accuracy: 0.7876\n",
      "Iteration 1400 - Loss: 27.5666, Accuracy: 0.7958\n",
      "Iteration 1500 - Loss: 28.1813, Accuracy: 0.8039\n",
      "Iteration 1600 - Loss: 28.7375, Accuracy: 0.8093\n",
      "Iteration 1700 - Loss: 29.2420, Accuracy: 0.8147\n",
      "Iteration 1800 - Loss: 29.7058, Accuracy: 0.8201\n",
      "Iteration 1900 - Loss: 30.1287, Accuracy: 0.8251\n",
      "Iteration 2000 - Loss: 30.5183, Accuracy: 0.8292\n",
      "Iteration 2100 - Loss: 30.8780, Accuracy: 0.8332\n",
      "Iteration 2200 - Loss: 31.2089, Accuracy: 0.8367\n",
      "Iteration 2300 - Loss: 31.5152, Accuracy: 0.8403\n",
      "Iteration 2400 - Loss: 31.7995, Accuracy: 0.8429\n",
      "Iteration 2500 - Loss: 32.0667, Accuracy: 0.8453\n",
      "Iteration 2600 - Loss: 32.3165, Accuracy: 0.8474\n",
      "Iteration 2700 - Loss: 32.5486, Accuracy: 0.8496\n",
      "Iteration 2800 - Loss: 32.7633, Accuracy: 0.8517\n",
      "Iteration 2900 - Loss: 32.9639, Accuracy: 0.8538\n",
      "Iteration 3000 - Loss: 33.1527, Accuracy: 0.8558\n",
      "Iteration 3100 - Loss: 33.3306, Accuracy: 0.8579\n",
      "Iteration 3200 - Loss: 33.4984, Accuracy: 0.8598\n",
      "Iteration 3300 - Loss: 33.6566, Accuracy: 0.8609\n",
      "Iteration 3400 - Loss: 33.8082, Accuracy: 0.8626\n",
      "Iteration 3500 - Loss: 33.9545, Accuracy: 0.8640\n",
      "Iteration 3600 - Loss: 34.0927, Accuracy: 0.8653\n",
      "Iteration 3700 - Loss: 34.2236, Accuracy: 0.8665\n",
      "Iteration 3800 - Loss: 34.3467, Accuracy: 0.8678\n",
      "Iteration 3900 - Loss: 34.4635, Accuracy: 0.8689\n",
      "Iteration 4000 - Loss: 34.5752, Accuracy: 0.8701\n",
      "Iteration 4100 - Loss: 34.6816, Accuracy: 0.8713\n",
      "Iteration 4200 - Loss: 34.7839, Accuracy: 0.8723\n",
      "Iteration 4300 - Loss: 34.8811, Accuracy: 0.8730\n",
      "Iteration 4400 - Loss: 34.9748, Accuracy: 0.8738\n",
      "Iteration 4500 - Loss: 35.0653, Accuracy: 0.8748\n",
      "Iteration 4600 - Loss: 35.1517, Accuracy: 0.8755\n",
      "Iteration 4700 - Loss: 35.2348, Accuracy: 0.8765\n",
      "Iteration 4800 - Loss: 35.3149, Accuracy: 0.8771\n",
      "Iteration 4900 - Loss: 35.3932, Accuracy: 0.8780\n",
      "Iteration 5000 - Loss: 35.4694, Accuracy: 0.8787\n",
      "Iteration 5100 - Loss: 35.5417, Accuracy: 0.8798\n",
      "Iteration 5200 - Loss: 35.6121, Accuracy: 0.8804\n",
      "Iteration 5300 - Loss: 35.6799, Accuracy: 0.8810\n",
      "Iteration 5400 - Loss: 35.7461, Accuracy: 0.8816\n",
      "Iteration 5500 - Loss: 35.8112, Accuracy: 0.8822\n",
      "Iteration 5600 - Loss: 35.8756, Accuracy: 0.8827\n",
      "Iteration 5700 - Loss: 35.9387, Accuracy: 0.8834\n",
      "Iteration 5800 - Loss: 36.0005, Accuracy: 0.8840\n",
      "Iteration 5900 - Loss: 36.0611, Accuracy: 0.8847\n",
      "Iteration 6000 - Loss: 36.1194, Accuracy: 0.8853\n",
      "Iteration 6100 - Loss: 36.1761, Accuracy: 0.8860\n",
      "Iteration 6200 - Loss: 36.2313, Accuracy: 0.8867\n",
      "Iteration 6300 - Loss: 36.2854, Accuracy: 0.8872\n",
      "Iteration 6400 - Loss: 36.3371, Accuracy: 0.8877\n",
      "Iteration 6500 - Loss: 36.3867, Accuracy: 0.8884\n",
      "Iteration 6600 - Loss: 36.4358, Accuracy: 0.8892\n",
      "Iteration 6700 - Loss: 36.4839, Accuracy: 0.8897\n",
      "Iteration 6800 - Loss: 36.5320, Accuracy: 0.8905\n",
      "Iteration 6900 - Loss: 36.5791, Accuracy: 0.8910\n",
      "Iteration 7000 - Loss: 36.6260, Accuracy: 0.8913\n",
      "Iteration 7100 - Loss: 36.6737, Accuracy: 0.8918\n",
      "Iteration 7200 - Loss: 36.7198, Accuracy: 0.8922\n",
      "Iteration 7300 - Loss: 36.7660, Accuracy: 0.8928\n",
      "Iteration 7400 - Loss: 36.8119, Accuracy: 0.8931\n",
      "Iteration 7500 - Loss: 36.8567, Accuracy: 0.8936\n",
      "Iteration 7600 - Loss: 36.9006, Accuracy: 0.8938\n",
      "Iteration 7700 - Loss: 36.9431, Accuracy: 0.8940\n",
      "Iteration 7800 - Loss: 36.9850, Accuracy: 0.8944\n",
      "Iteration 7900 - Loss: 37.0261, Accuracy: 0.8947\n",
      "Iteration 8000 - Loss: 37.0668, Accuracy: 0.8952\n",
      "Iteration 8100 - Loss: 37.1066, Accuracy: 0.8956\n",
      "Iteration 8200 - Loss: 37.1462, Accuracy: 0.8961\n",
      "Iteration 8300 - Loss: 37.1862, Accuracy: 0.8964\n",
      "Iteration 8400 - Loss: 37.2251, Accuracy: 0.8968\n",
      "Iteration 8500 - Loss: 37.2630, Accuracy: 0.8974\n",
      "Iteration 8600 - Loss: 37.3007, Accuracy: 0.8976\n",
      "Iteration 8700 - Loss: 37.3378, Accuracy: 0.8980\n",
      "Iteration 8800 - Loss: 37.3742, Accuracy: 0.8983\n",
      "Iteration 8900 - Loss: 37.4103, Accuracy: 0.8985\n",
      "Iteration 9000 - Loss: 37.4458, Accuracy: 0.8990\n",
      "Iteration 9100 - Loss: 37.4813, Accuracy: 0.8993\n",
      "Iteration 9200 - Loss: 37.5176, Accuracy: 0.8995\n",
      "Iteration 9300 - Loss: 37.5536, Accuracy: 0.8997\n",
      "Iteration 9400 - Loss: 37.5884, Accuracy: 0.9001\n",
      "Iteration 9500 - Loss: 37.6230, Accuracy: 0.9004\n",
      "Iteration 9600 - Loss: 37.6576, Accuracy: 0.9009\n",
      "Iteration 9700 - Loss: 37.6918, Accuracy: 0.9013\n",
      "Iteration 9800 - Loss: 37.7260, Accuracy: 0.9017\n",
      "Iteration 9900 - Loss: 37.7595, Accuracy: 0.9020\n"
     ]
    }
   ],
   "source": [
    "W1, b1, W2, b2 = gradient_descent(X_train, Y_train, 10000, 0.01)"
   ]
  },
  {
   "cell_type": "code",
   "execution_count": 11,
   "id": "749fad35-57c9-4174-be59-d6b403576aba",
   "metadata": {},
   "outputs": [],
   "source": [
    "def make_predictions(X, W1, b1, W2, b2):\n",
    "    _, _, _, A2 = forward_prop(W1, b1, W2, b2, X)\n",
    "    predictions = get_predictions(A2)\n",
    "    return predictions\n",
    "\n",
    "def test_prediction(index, W1, b1, W2, b2):\n",
    "    current_image = X_train[:, index, None]\n",
    "    prediction = make_predictions(X_train[:, index, None], W1, b1, W2, b2)\n",
    "    label = Y_train[index]\n",
    "    print(\"Prediction: \", prediction)\n",
    "    print(\"Label: \", label)\n",
    "    \n",
    "    current_image = current_image.reshape((28, 28)) * 255\n",
    "    plt.gray()\n",
    "    plt.imshow(current_image, interpolation='nearest')\n",
    "    plt.show()"
   ]
  },
  {
   "cell_type": "code",
   "execution_count": 13,
   "id": "5a419c58-6e75-4436-ae69-c3a376e09172",
   "metadata": {},
   "outputs": [
    {
     "name": "stdout",
     "output_type": "stream",
     "text": [
      "Prediction:  [3]\n",
      "Label:  3\n"
     ]
    },
    {
     "data": {
      "image/png": "[encoded data removed]",
      "text/plain": [
       "<Figure size 640x480 with 1 Axes>"
      ]
     },
     "metadata": {},
     "output_type": "display_data"
    },
    {
     "name": "stdout",
     "output_type": "stream",
     "text": [
      "Prediction:  [2]\n",
      "Label:  2\n"
     ]
    },
    {
     "data": {
      "image/png": "[encoded data removed]",
      "text/plain": [
       "<Figure size 640x480 with 1 Axes>"
      ]
     },
     "metadata": {},
     "output_type": "display_data"
    },
    {
     "name": "stdout",
     "output_type": "stream",
     "text": [
      "Prediction:  [7]\n",
      "Label:  7\n"
     ]
    },
    {
     "data": {
      "image/png": "[encoded data removed]",
      "text/plain": [
       "<Figure size 640x480 with 1 Axes>"
      ]
     },
     "metadata": {},
     "output_type": "display_data"
    },
    {
     "name": "stdout",
     "output_type": "stream",
     "text": [
      "Prediction:  [0]\n",
      "Label:  0\n"
     ]
    },
    {
     "data": {
      "image/png": "[encoded data removed]",
      "text/plain": [
       "<Figure size 640x480 with 1 Axes>"
      ]
     },
     "metadata": {},
     "output_type": "display_data"
    }
   ],
   "source": [
    "test_prediction(7, W1, b1, W2, b2)\n",
    "test_prediction(4, W1, b1, W2, b2)\n",
    "test_prediction(5, W1, b1, W2, b2)\n",
    "test_prediction(8, W1, b1, W2, b2)"
   ]
  },
  {
   "cell_type": "code",
   "execution_count": null,
   "id": "1fd41254-10b4-4807-9b07-ef871bb76dde",
   "metadata": {},
   "outputs": [],
   "source": []
  }
 ],
 "metadata": {
  "kernelspec": {
   "display_name": "Python 3 (ipykernel)",
   "language": "python",
   "name": "python3"
  },
  "language_info": {
   "codemirror_mode": {
    "name": "ipython",
    "version": 3
   },
   "file_extension": ".py",
   "mimetype": "text/x-python",
   "name": "python",
   "nbconvert_exporter": "python",
   "pygments_lexer": "ipython3",
   "version": "3.12.8"
  }
 },
 "nbformat": 4,
 "nbformat_minor": 5
}
