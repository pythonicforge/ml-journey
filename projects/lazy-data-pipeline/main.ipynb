{
 "cells": [
  {
   "cell_type": "markdown",
   "metadata": {},
   "source": [
    "## Lazy Data Processing Pipeline\n",
    "The idea here is to build a data processing pipeline where data is processed lazily using generators and decorators to enhance the pipeline. This could be a cool project to demonstrate the power of lazy evaluation with iterators, efficient data handling with generators, and enhancing the functionality with decorators."
   ]
  },
  {
   "cell_type": "code",
   "execution_count": 7,
   "metadata": {},
   "outputs": [],
   "source": [
    "import random, time\n",
    "\n",
    "data = [random.randint(1, 100) for _ in range(100000)]"
   ]
  },
  {
   "cell_type": "code",
   "execution_count": 10,
   "metadata": {},
   "outputs": [
    {
     "name": "stdout",
     "output_type": "stream",
     "text": [
      "filter ran in 7.152557373046875e-07 secs\n",
      "transformation ran in 9.5367431640625e-07 secs\n",
      "aggregate ran in 0.0 secs\n",
      "pipeline ran in 5.1021575927734375e-05 secs\n",
      "298338177\n"
     ]
    }
   ],
   "source": [
    "def time_it(func):\n",
    "    def wrapper(*args, **kwargs):\n",
    "        prev = time.time()\n",
    "        res = func(*args, **kwargs)\n",
    "        curr = time.time()\n",
    "        print(f\"{func.__name__} ran in {curr-prev} secs\")\n",
    "        return res\n",
    "    return wrapper\n",
    "@time_it\n",
    "def filter(threshold):\n",
    "    for item in data:\n",
    "        if threshold <= item:\n",
    "            yield item\n",
    "@time_it\n",
    "def transformation(data):\n",
    "    for number in data:\n",
    "        yield number * number\n",
    "@time_it\n",
    "def aggregate(data):\n",
    "    total = 0\n",
    "    for item in data:\n",
    "        total += item\n",
    "    yield total\n",
    "\n",
    "@time_it\n",
    "def pipeline(data):\n",
    "    filtered_data = filter(50)\n",
    "    transformed_data = transformation(filtered_data)\n",
    "    aggregate_data = aggregate(transformed_data)\n",
    "\n",
    "    return aggregate_data\n",
    "\n",
    "for i in pipeline(data):\n",
    "    print(i)\n"
   ]
  },
  {
   "cell_type": "code",
   "execution_count": null,
   "metadata": {},
   "outputs": [],
   "source": []
  }
 ],
 "metadata": {
  "kernelspec": {
   "display_name": "Python 3",
   "language": "python",
   "name": "python3"
  },
  "language_info": {
   "codemirror_mode": {
    "name": "ipython",
    "version": 3
   },
   "file_extension": ".py",
   "mimetype": "text/x-python",
   "name": "python",
   "nbconvert_exporter": "python",
   "pygments_lexer": "ipython3",
   "version": "3.12.0"
  }
 },
 "nbformat": 4,
 "nbformat_minor": 2
}
